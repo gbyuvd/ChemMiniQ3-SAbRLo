{
 "cells": [
  {
   "cell_type": "markdown",
   "id": "9371cf89",
   "metadata": {},
   "source": [
    "# Loading Script"
   ]
  },
  {
   "cell_type": "code",
   "execution_count": 1,
   "id": "f67fdbad",
   "metadata": {},
   "outputs": [
    {
     "name": "stdout",
     "output_type": "stream",
     "text": [
      "🚀 ChemQ3-MTP Model Loader Starting...\n",
      "\n",
      "📥 Downloading model files from gbyuvd/ChemMiniQ3-SAbRLo...\n"
     ]
    },
    {
     "name": "stderr",
     "output_type": "stream",
     "text": [
      "d:\\ProgramData\\miniconda3\\Lib\\site-packages\\huggingface_hub\\file_download.py:945: FutureWarning: `resume_download` is deprecated and will be removed in version 1.0.0. Downloads always resume when possible. If you want to force a new download, use `force_download=True`.\n",
      "  warnings.warn(\n"
     ]
    },
    {
     "data": {
      "application/vnd.jupyter.widget-view+json": {
       "model_id": "56a18349d7d0446f84917c4210e47e77",
       "version_major": 2,
       "version_minor": 0
      },
      "text/plain": [
       "Fetching 17 files:   0%|          | 0/17 [00:00<?, ?it/s]"
      ]
     },
     "metadata": {},
     "output_type": "display_data"
    },
    {
     "data": {
      "application/vnd.jupyter.widget-view+json": {
       "model_id": "2c189ed4f66940818e58d607bedc85af",
       "version_major": 2,
       "version_minor": 0
      },
      "text/plain": [
       ".gitattributes: 0.00B [00:00, ?B/s]"
      ]
     },
     "metadata": {},
     "output_type": "display_data"
    },
    {
     "data": {
      "application/vnd.jupyter.widget-view+json": {
       "model_id": "85f2152923a04f2384b32d730261846b",
       "version_major": 2,
       "version_minor": 0
      },
      "text/plain": [
       "FastChemTokenizerHF.py: 0.00B [00:00, ?B/s]"
      ]
     },
     "metadata": {},
     "output_type": "display_data"
    },
    {
     "data": {
      "application/vnd.jupyter.widget-view+json": {
       "model_id": "84ba19ee388d46f2850a658d23ccfe33",
       "version_major": 2,
       "version_minor": 0
      },
      "text/plain": [
       "config.json: 0.00B [00:00, ?B/s]"
      ]
     },
     "metadata": {},
     "output_type": "display_data"
    },
    {
     "data": {
      "application/vnd.jupyter.widget-view+json": {
       "model_id": "52185bad3b46433d8f00033966c56fea",
       "version_major": 2,
       "version_minor": 0
      },
      "text/plain": [
       "__init__.py:   0%|          | 0.00/569 [00:00<?, ?B/s]"
      ]
     },
     "metadata": {},
     "output_type": "display_data"
    },
    {
     "data": {
      "application/vnd.jupyter.widget-view+json": {
       "model_id": "d30a9f81452142a78b3620de2af17134",
       "version_major": 2,
       "version_minor": 0
      },
      "text/plain": [
       "README.md: 0.00B [00:00, ?B/s]"
      ]
     },
     "metadata": {},
     "output_type": "display_data"
    },
    {
     "data": {
      "application/vnd.jupyter.widget-view+json": {
       "model_id": "bbcdb946ea6d46aea24b32e59634a3bc",
       "version_major": 2,
       "version_minor": 0
      },
      "text/plain": [
       "configuration_chemq3mtp.py:   0%|          | 0.00/876 [00:00<?, ?B/s]"
      ]
     },
     "metadata": {},
     "output_type": "display_data"
    },
    {
     "data": {
      "application/vnd.jupyter.widget-view+json": {
       "model_id": "9fe7ffbaee954fba83c91fcd2a95bb82",
       "version_major": 2,
       "version_minor": 0
      },
      "text/plain": [
       "generation_config.json:   0%|          | 0.00/174 [00:00<?, ?B/s]"
      ]
     },
     "metadata": {},
     "output_type": "display_data"
    },
    {
     "data": {
      "application/vnd.jupyter.widget-view+json": {
       "model_id": "08c4779d2281423d986a7a13f2a1fe7e",
       "version_major": 2,
       "version_minor": 0
      },
      "text/plain": [
       "demo_usage.ipynb: 0.00B [00:00, ?B/s]"
      ]
     },
     "metadata": {},
     "output_type": "display_data"
    },
    {
     "data": {
      "application/vnd.jupyter.widget-view+json": {
       "model_id": "32c0220f0f8d4581b3ee1982454718e8",
       "version_major": 2,
       "version_minor": 0
      },
      "text/plain": [
       "model.safetensors:   0%|          | 0.00/39.4M [00:00<?, ?B/s]"
      ]
     },
     "metadata": {},
     "output_type": "display_data"
    },
    {
     "data": {
      "application/vnd.jupyter.widget-view+json": {
       "model_id": "895fb0bf2e174f0789f2d706f112fb7c",
       "version_major": 2,
       "version_minor": 0
      },
      "text/plain": [
       "rl_utils.py: 0.00B [00:00, ?B/s]"
      ]
     },
     "metadata": {},
     "output_type": "display_data"
    },
    {
     "data": {
      "application/vnd.jupyter.widget-view+json": {
       "model_id": "a52bfac339a44f79b2c872b21b9c8adc",
       "version_major": 2,
       "version_minor": 0
      },
      "text/plain": [
       "tokenizer_config.json:   0%|          | 0.00/302 [00:00<?, ?B/s]"
      ]
     },
     "metadata": {},
     "output_type": "display_data"
    },
    {
     "data": {
      "application/vnd.jupyter.widget-view+json": {
       "model_id": "ac4f238b0826450f99ed4391089a1b02",
       "version_major": 2,
       "version_minor": 0
      },
      "text/plain": [
       "modeling_chemq3mtp.py: 0.00B [00:00, ?B/s]"
      ]
     },
     "metadata": {},
     "output_type": "display_data"
    },
    {
     "data": {
      "application/vnd.jupyter.widget-view+json": {
       "model_id": "63205aab91ed4ffba775da0bc6509c90",
       "version_major": 2,
       "version_minor": 0
      },
      "text/plain": [
       "trainer.py: 0.00B [00:00, ?B/s]"
      ]
     },
     "metadata": {},
     "output_type": "display_data"
    },
    {
     "data": {
      "application/vnd.jupyter.widget-view+json": {
       "model_id": "1132b6a87d0541b3b86018790f26beed",
       "version_major": 2,
       "version_minor": 0
      },
      "text/plain": [
       "training_args.bin:   0%|          | 0.00/5.37k [00:00<?, ?B/s]"
      ]
     },
     "metadata": {},
     "output_type": "display_data"
    },
    {
     "data": {
      "application/vnd.jupyter.widget-view+json": {
       "model_id": "ba711a1314694d14834a0303e63706ef",
       "version_major": 2,
       "version_minor": 0
      },
      "text/plain": [
       "trainer_state.json:   0%|          | 0.00/798 [00:00<?, ?B/s]"
      ]
     },
     "metadata": {},
     "output_type": "display_data"
    },
    {
     "data": {
      "application/vnd.jupyter.widget-view+json": {
       "model_id": "b3fcdc572f6546c6aeeb063418c6db67",
       "version_major": 2,
       "version_minor": 0
      },
      "text/plain": [
       "training_config.json:   0%|          | 0.00/252 [00:00<?, ?B/s]"
      ]
     },
     "metadata": {},
     "output_type": "display_data"
    },
    {
     "data": {
      "application/vnd.jupyter.widget-view+json": {
       "model_id": "6c8626db65cf47e1b5bc88c9bfa42946",
       "version_major": 2,
       "version_minor": 0
      },
      "text/plain": [
       "vocab.json: 0.00B [00:00, ?B/s]"
      ]
     },
     "metadata": {},
     "output_type": "display_data"
    },
    {
     "name": "stdout",
     "output_type": "stream",
     "text": [
      "✅ Model downloaded to: D:\\Work\\ChemMiniQ3-HoriFIE-main\\ChemMiniQ3-HoriFIE-main\\ChemMiniQ3-o\\Automodel\\chemq3_model\n",
      "📁 Downloaded files:\n",
      "   .gitattributes (1519 bytes)\n",
      "   config.json (1161 bytes)\n",
      "   configuration_chemq3mtp.py (876 bytes)\n",
      "   demo_usage.ipynb (15239 bytes)\n",
      "   FastChemTokenizerHF.py (28659 bytes)\n",
      "   generation_config.json (174 bytes)\n",
      "   model.safetensors (39437252 bytes)\n",
      "   modeling_chemq3mtp.py (18125 bytes)\n",
      "   README.md (8575 bytes)\n",
      "   rl_utils.py (20726 bytes)\n",
      "   tokenizer_config.json (302 bytes)\n",
      "   trainer.py (2417 bytes)\n",
      "   trainer_state.json (798 bytes)\n",
      "   training_args.bin (5368 bytes)\n",
      "   training_config.json (252 bytes)\n",
      "   vocab.json (21574 bytes)\n",
      "   __init__.py (569 bytes)\n",
      "\n",
      "🔧 Loading custom modules from D:\\Work\\ChemMiniQ3-HoriFIE-main\\ChemMiniQ3-HoriFIE-main\\ChemMiniQ3-o\\Automodel\\chemq3_model...\n",
      "   ✅ Loaded configuration_chemq3mtp.py\n"
     ]
    },
    {
     "name": "stderr",
     "output_type": "stream",
     "text": [
      "`torch_dtype` is deprecated! Use `dtype` instead!\n"
     ]
    },
    {
     "name": "stdout",
     "output_type": "stream",
     "text": [
      "   ✅ Loaded modeling_chemq3mtp.py\n",
      "   ✅ Loaded FastChemTokenizerHF.py\n",
      "\n",
      "🔗 Registering model components...\n",
      "✅ Model components registered successfully\n",
      "\n",
      "🚀 Loading model...\n",
      "✅ Config loaded: ChemQ3MTPConfig\n",
      "✅ Model loaded: ChemQ3MTPForCausalLM\n",
      "✅ Tokenizer loaded: FastChemTokenizerSelfies\n",
      "\n",
      "🧪 Testing model...\n",
      "🖥️  Using device: cuda\n",
      "\n",
      "📊 Model Information:\n",
      "   Model class: ChemQ3MTPForCausalLM\n",
      "   Config class: ChemQ3MTPConfig\n",
      "   Tokenizer class: FastChemTokenizerSelfies\n",
      "   Model type: chemq3_mtp\n",
      "   Vocab size: 782\n",
      "\n",
      "🔤 Testing tokenization...\n",
      "   '[C][C][O]' -> [[0, 379, 379, 377, 1]]\n",
      "   '[C]' -> [[0, 379, 1]]\n",
      "   '[O]' -> [[0, 377, 1]]\n",
      "\n",
      "🎯 Testing generation...\n",
      "\n",
      "   Prompt: '[C]'\n",
      "      1: [C] [C] [Ring1] [Branch1] [N] [C] [=Branch1] [C] [=O] [C] [=Branch1] [C] [=O] [N] [Branch1] [#Branch1] [C] [C] [=C] [C] [=C] [C] [=C] [Ring1] [=Branch1] [Ring1] [=Branch1]\n",
      "      2: [C] [C] [=C] [Ring1] [Branch1] [C] [C] [Ring1] [=N] [C] [Branch1] [=Branch2] [C] [Branch2] [Ring1] [#Branch1] [Branch1] [C] [O] [C@@H1] [Ring1] [Ring1]\n",
      "      3: [C] [N] [C] [=N] [C] [Branch1] [C] [Cl] [Ring1] [Branch2] [C] [Ring1] [=Branch1] [=C] [Ring1] [#C]\n",
      "\n",
      "   Prompt: '[C][C]'\n",
      "      1: [C] [C] [=N] [Ring1] [Branch1] [C] [=C] [C] [=C] [Ring1] [=Branch1] [C] [C] [Ring1] [S] [C]\n",
      "      2: [C] [C] [Branch1] [C] [F] [F] [Branch1] [C] [F] [Branch1] [C] [F] [Branch1] [C] [F] [=C] [Ring1] [#Branch1] [=C] [Ring1] [P]\n",
      "      3: [C] [C] [Ring1] [C] [C@@H1] [Branch1] [P] [N] [C] [C] [N] [Ring1] [=Branch1] [Ring1] [S] [Ring1] [S] [C] [Ring2] [Ring1]\n",
      "\n",
      "🔬 Testing MTP functionality...\n",
      "   ✅ MTP training methods available\n",
      "   ✅ MTP generation methods available\n",
      "\n",
      "🎉 Model loading and testing completed successfully!\n"
     ]
    }
   ],
   "source": [
    "import torch\n",
    "import sys\n",
    "import os\n",
    "from pathlib import Path\n",
    "import importlib.util\n",
    "import huggingface_hub\n",
    "from transformers import AutoConfig, AutoModelForCausalLM, AutoTokenizer\n",
    "\n",
    "def download_and_setup_model(model_name=\"gbyuvd/ChemMiniQ3-SAbRLo\", local_dir=\"./chemq3_model\"):\n",
    "    \"\"\"Download model files and set up the custom modules\"\"\"\n",
    "    \n",
    "    print(f\"📥 Downloading model files from {model_name}...\")\n",
    "    \n",
    "    try:\n",
    "        # Download all files to a local directory\n",
    "        model_path = huggingface_hub.snapshot_download(\n",
    "            repo_id=model_name,\n",
    "            local_dir=local_dir,\n",
    "            local_files_only=False,\n",
    "            resume_download=True\n",
    "        )\n",
    "        \n",
    "        print(f\"✅ Model downloaded to: {model_path}\")\n",
    "        \n",
    "        # List downloaded files\n",
    "        print(\"📁 Downloaded files:\")\n",
    "        for file in Path(model_path).iterdir():\n",
    "            if file.is_file():\n",
    "                print(f\"   {file.name} ({file.stat().st_size} bytes)\")\n",
    "        \n",
    "        return Path(model_path)\n",
    "        \n",
    "    except Exception as e:\n",
    "        print(f\"❌ Download failed: {e}\")\n",
    "        return None\n",
    "\n",
    "def load_custom_modules(model_path):\n",
    "    \"\"\"Load all the custom modules required by the model\"\"\"\n",
    "    \n",
    "    model_path = Path(model_path)\n",
    "    \n",
    "    # Add the model directory to Python path\n",
    "    if str(model_path) not in sys.path:\n",
    "        sys.path.insert(0, str(model_path))\n",
    "    \n",
    "    print(f\"🔧 Loading custom modules from {model_path}...\")\n",
    "    \n",
    "    # Required module files\n",
    "    required_files = {\n",
    "        'configuration_chemq3mtp.py': 'configuration_chemq3mtp',\n",
    "        'modeling_chemq3mtp.py': 'modeling_chemq3mtp', \n",
    "        'FastChemTokenizerHF.py': 'FastChemTokenizerHF'\n",
    "    }\n",
    "    \n",
    "    loaded_modules = {}\n",
    "    \n",
    "    # Load each required module\n",
    "    for filename, module_name in required_files.items():\n",
    "        file_path = model_path / filename\n",
    "        \n",
    "        if not file_path.exists():\n",
    "            print(f\"❌ Required file not found: {filename}\")\n",
    "            return None\n",
    "            \n",
    "        try:\n",
    "            spec = importlib.util.spec_from_file_location(module_name, file_path)\n",
    "            module = importlib.util.module_from_spec(spec)\n",
    "            \n",
    "            # Execute the module\n",
    "            spec.loader.exec_module(module)\n",
    "            loaded_modules[module_name] = module\n",
    "            \n",
    "            print(f\"   ✅ Loaded {filename}\")\n",
    "            \n",
    "        except Exception as e:\n",
    "            print(f\"   ❌ Failed to load {filename}: {e}\")\n",
    "            return None\n",
    "    \n",
    "    return loaded_modules\n",
    "\n",
    "def register_model_components(loaded_modules):\n",
    "    \"\"\"Register the model components with transformers\"\"\"\n",
    "    \n",
    "    print(\"🔗 Registering model components...\")\n",
    "    \n",
    "    try:\n",
    "        # Get the classes from loaded modules\n",
    "        ChemQ3MTPConfig = loaded_modules['configuration_chemq3mtp'].ChemQ3MTPConfig\n",
    "        ChemQ3MTPForCausalLM = loaded_modules['modeling_chemq3mtp'].ChemQ3MTPForCausalLM\n",
    "        FastChemTokenizerSelfies = loaded_modules['FastChemTokenizerHF'].FastChemTokenizerSelfies\n",
    "        \n",
    "        # Register with transformers\n",
    "        AutoConfig.register(\"chemq3_mtp\", ChemQ3MTPConfig)\n",
    "        AutoModelForCausalLM.register(ChemQ3MTPConfig, ChemQ3MTPForCausalLM)\n",
    "        AutoTokenizer.register(ChemQ3MTPConfig, FastChemTokenizerSelfies)\n",
    "        \n",
    "        print(\"✅ Model components registered successfully\")\n",
    "        \n",
    "        return ChemQ3MTPConfig, ChemQ3MTPForCausalLM, FastChemTokenizerSelfies\n",
    "        \n",
    "    except Exception as e:\n",
    "        print(f\"❌ Registration failed: {e}\")\n",
    "        return None, None, None\n",
    "\n",
    "def load_model(model_path):\n",
    "    \"\"\"Load the model using the registered components\"\"\"\n",
    "    \n",
    "    print(\"🚀 Loading model...\")\n",
    "    \n",
    "    try:\n",
    "        # Load config\n",
    "        config = AutoConfig.from_pretrained(str(model_path), trust_remote_code=False)\n",
    "        print(f\"✅ Config loaded: {config.__class__.__name__}\")\n",
    "        \n",
    "        # Load model\n",
    "        model = AutoModelForCausalLM.from_pretrained(\n",
    "            str(model_path),\n",
    "            config=config,\n",
    "            torch_dtype=torch.float16 if torch.cuda.is_available() else torch.float32,\n",
    "            trust_remote_code=False  # We've already registered everything\n",
    "        )\n",
    "        print(f\"✅ Model loaded: {model.__class__.__name__}\")\n",
    "        \n",
    "        # Load tokenizer\n",
    "        tokenizer = AutoTokenizer.from_pretrained(str(model_path), trust_remote_code=False)\n",
    "        print(f\"✅ Tokenizer loaded: {tokenizer.__class__.__name__}\")\n",
    "        \n",
    "        return model, tokenizer, config\n",
    "        \n",
    "    except Exception as e:\n",
    "        print(f\"❌ Model loading failed: {e}\")\n",
    "        import traceback\n",
    "        traceback.print_exc()\n",
    "        return None, None, None\n",
    "\n",
    "def test_model(model, tokenizer, config):\n",
    "    \"\"\"Test the loaded model\"\"\"\n",
    "    \n",
    "    print(\"\\n🧪 Testing model...\")\n",
    "    \n",
    "    # Setup device\n",
    "    device = torch.device(\"cuda\" if torch.cuda.is_available() else \"cpu\")\n",
    "    print(f\"🖥️  Using device: {device}\")\n",
    "    \n",
    "    model = model.to(device)\n",
    "    model.eval()\n",
    "    \n",
    "    # Model info\n",
    "    print(f\"\\n📊 Model Information:\")\n",
    "    print(f\"   Model class: {model.__class__.__name__}\")\n",
    "    print(f\"   Config class: {config.__class__.__name__}\")\n",
    "    print(f\"   Tokenizer class: {tokenizer.__class__.__name__}\")\n",
    "    print(f\"   Model type: {config.model_type}\")\n",
    "    print(f\"   Vocab size: {config.vocab_size}\")\n",
    "    \n",
    "    # Set pad token if needed\n",
    "    if not hasattr(tokenizer, 'pad_token') or tokenizer.pad_token is None:\n",
    "        if hasattr(tokenizer, 'eos_token'):\n",
    "            tokenizer.pad_token = tokenizer.eos_token\n",
    "            print(\"✅ Set pad_token to eos_token\")\n",
    "    \n",
    "    # Test tokenization\n",
    "    print(\"\\n🔤 Testing tokenization...\")\n",
    "    test_inputs = [\"[C][C][O]\", \"[C]\", \"[O]\"]\n",
    "    \n",
    "    for test_input in test_inputs:\n",
    "        try:\n",
    "            tokens = tokenizer(test_input, return_tensors=\"pt\")\n",
    "            print(f\"   '{test_input}' -> {tokens.input_ids.tolist()}\")\n",
    "        except Exception as e:\n",
    "            print(f\"   ❌ Tokenization failed for '{test_input}': {e}\")\n",
    "            continue\n",
    "    \n",
    "    # Test generation\n",
    "    print(\"\\n🎯 Testing generation...\")\n",
    "    test_prompts = [\"[C]\", \"[C][C]\"]\n",
    "    \n",
    "    for prompt in test_prompts:\n",
    "        try:\n",
    "            input_ids = tokenizer(prompt, return_tensors=\"pt\").input_ids.to(device)\n",
    "            \n",
    "            with torch.no_grad():\n",
    "                outputs = model.generate(\n",
    "                    input_ids,\n",
    "                    max_length=input_ids.shape[1] + 20,\n",
    "                    temperature=0.8,\n",
    "                    top_p=0.9,\n",
    "                    top_k=50,\n",
    "                    do_sample=True,\n",
    "                    pad_token_id=tokenizer.pad_token_id if hasattr(tokenizer, 'pad_token_id') else 0,\n",
    "                    num_return_sequences=3\n",
    "                )\n",
    "            \n",
    "            print(f\"\\n   Prompt: '{prompt}'\")\n",
    "            for i, output in enumerate(outputs):\n",
    "                generated = tokenizer.decode(output, skip_special_tokens=True)\n",
    "                print(f\"      {i+1}: {generated}\")\n",
    "                \n",
    "        except Exception as e:\n",
    "            print(f\"   ❌ Generation failed for '{prompt}': {e}\")\n",
    "    \n",
    "    # Test MTP functionality if available\n",
    "    print(\"\\n🔬 Testing MTP functionality...\")\n",
    "    try:\n",
    "        if hasattr(model, 'set_mtp_training'):\n",
    "            print(\"   ✅ MTP training methods available\")\n",
    "            if hasattr(model, 'generate_with_logprobs'):\n",
    "                print(\"   ✅ MTP generation methods available\")\n",
    "        else:\n",
    "            print(\"   ℹ️  Standard model - no MTP methods detected\")\n",
    "    except Exception as e:\n",
    "        print(f\"   ⚠️  MTP test error: {e}\")\n",
    "\n",
    "def main():\n",
    "    print(\"🚀 ChemQ3-MTP Model Loader Starting...\\n\")\n",
    "    \n",
    "    model_name = \"gbyuvd/ChemMiniQ3-SAbRLo\"\n",
    "    local_dir = \"./chemq3_model\"\n",
    "    \n",
    "    # Step 1: Download model files\n",
    "    model_path = download_and_setup_model(model_name, local_dir)\n",
    "    if model_path is None:\n",
    "        return None, None, None\n",
    "    \n",
    "    print()\n",
    "    \n",
    "    # Step 2: Load custom modules\n",
    "    loaded_modules = load_custom_modules(model_path)\n",
    "    if loaded_modules is None:\n",
    "        return None, None, None\n",
    "    \n",
    "    print()\n",
    "    \n",
    "    # Step 3: Register components\n",
    "    config_class, model_class, tokenizer_class = register_model_components(loaded_modules)\n",
    "    if config_class is None:\n",
    "        return None, None, None\n",
    "    \n",
    "    print()\n",
    "    \n",
    "    # Step 4: Load the model\n",
    "    model, tokenizer, config = load_model(model_path)\n",
    "    if model is None:\n",
    "        return None, None, None\n",
    "    \n",
    "    # Step 5: Test the model\n",
    "    test_model(model, tokenizer, config)\n",
    "    \n",
    "    print(\"\\n🎉 Model loading and testing completed successfully!\")\n",
    "    \n",
    "    return model, tokenizer, config\n",
    "\n",
    "if __name__ == \"__main__\":\n",
    "    model, tokenizer, config = main()"
   ]
  },
  {
   "cell_type": "code",
   "execution_count": 2,
   "id": "b2ea169c",
   "metadata": {},
   "outputs": [
    {
     "name": "stdout",
     "output_type": "stream",
     "text": [
      "[C@H1] [/C] [N] [Branch1] [N] [C] [=C] [C] [=C] [Branch1] [C] [Cl] [C] [=C] [C] [=C] [O] [Ring1] [=Branch1] [Ring2] [Ring1] [Ring1] [Ring1] [O] [C] [Branch1] [N] [C] [C@@H1] [Ring1] [=Branch1] [C] [C] [Ring1] [Branch2] [N] [C] [=Branch1] [C] [=O] [C] [=C] [Ring2] [Ring1] [Ring2] [O] [C] [C] [Ring1] [Ring1] [Ring2] [N] [C] [C] [Ring1] [Branch1]\n"
     ]
    }
   ],
   "source": [
    "# Generate SELFIES\n",
    "device = torch.device(\"cuda\" if torch.cuda.is_available() else \"cpu\")\n",
    "model.to(device)\n",
    "input_ids = tokenizer(\"<s>\", return_tensors=\"pt\").input_ids.to(device)\n",
    "gen = model.generate(input_ids, max_length=256, top_k=50, temperature=1, do_sample=True, pad_token_id=tokenizer.pad_token_id)\n",
    "print(tokenizer.decode(gen[0], skip_special_tokens=True))"
   ]
  },
  {
   "cell_type": "code",
   "execution_count": 3,
   "id": "bcd4f1fa",
   "metadata": {},
   "outputs": [
    {
     "name": "stdout",
     "output_type": "stream",
     "text": [
      "[C@H1]/CN(C=CC=C(Cl)C=CC=C)O\n"
     ]
    }
   ],
   "source": [
    "# Manually convert it to SMILES\n",
    "import selfies as sf\n",
    "\n",
    "test = tokenizer.decode(gen[0], skip_special_tokens=True)\n",
    "test = test.replace(' ', '')\n",
    "print(sf.decoder(test))\n"
   ]
  },
  {
   "cell_type": "code",
   "execution_count": 4,
   "id": "eaf273a0",
   "metadata": {},
   "outputs": [
    {
     "name": "stdout",
     "output_type": "stream",
     "text": [
      "C12=CC1(OCC=CC=C)C2\n"
     ]
    },
    {
     "data": {
      "image/jpeg": "[encoded data removed]",
      "image/png": "[encoded data removed]",
      "text/plain": [
       "<PIL.PngImagePlugin.PngImageFile image mode=RGB size=300x300>"
      ]
     },
     "execution_count": 4,
     "metadata": {},
     "output_type": "execute_result"
    }
   ],
   "source": [
    "# Generate Mol Viz\n",
    "from rdkit import Chem\n",
    "from rdkit.Chem import Draw\n",
    "\n",
    "input_ids = tokenizer(\"<s>\", return_tensors=\"pt\").input_ids.to(device)\n",
    "gen = model.generate(input_ids, max_length=25, top_k=50, temperature=1, do_sample=True, pad_token_id=tokenizer.pad_token_id)\n",
    "generatedmol = tokenizer.decode(gen[0], skip_special_tokens=True)\n",
    "\n",
    "test = generatedmol.replace(' ', '')\n",
    "csmi_gen = sf.decoder(test)\n",
    "print(csmi_gen)\n",
    "mol = Chem.MolFromSmiles(csmi_gen)\n",
    "\n",
    "# Draw the molecule\n",
    "Draw.MolToImage(mol)"
   ]
  }
 ],
 "metadata": {
  "kernelspec": {
   "display_name": "base",
   "language": "python",
   "name": "python3"
  },
  "language_info": {
   "codemirror_mode": {
    "name": "ipython",
    "version": 3
   },
   "file_extension": ".py",
   "mimetype": "text/x-python",
   "name": "python",
   "nbconvert_exporter": "python",
   "pygments_lexer": "ipython3",
   "version": "3.13.0"
  }
 },
 "nbformat": 4,
 "nbformat_minor": 5
}
