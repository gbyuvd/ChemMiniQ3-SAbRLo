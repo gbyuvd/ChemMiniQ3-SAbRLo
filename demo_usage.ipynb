{
 "cells": [
  {
   "cell_type": "markdown",
   "id": "9371cf89",
   "metadata": {},
   "source": [
    "# Loading Script"
   ]
  },
  {
   "cell_type": "code",
   "execution_count": 2,
   "id": "f67fdbad",
   "metadata": {},
   "outputs": [
    {
     "name": "stdout",
     "output_type": "stream",
     "text": [
      "🚀 ChemQ3-MTP Model Loader Starting...\n",
      "\n",
      "📥 Downloading model files from gbyuvd/ChemMiniQ3-SAbRLo...\n"
     ]
    },
    {
     "name": "stderr",
     "output_type": "stream",
     "text": [
      "d:\\ProgramData\\miniconda3\\Lib\\site-packages\\huggingface_hub\\file_download.py:945: FutureWarning: `resume_download` is deprecated and will be removed in version 1.0.0. Downloads always resume when possible. If you want to force a new download, use `force_download=True`.\n",
      "  warnings.warn(\n"
     ]
    },
    {
     "data": {
      "application/vnd.jupyter.widget-view+json": {
       "model_id": "1859ad9097334d0f9a426bba84277c98",
       "version_major": 2,
       "version_minor": 0
      },
      "text/plain": [
       "Fetching 17 files:   0%|          | 0/17 [00:00<?, ?it/s]"
      ]
     },
     "metadata": {},
     "output_type": "display_data"
    },
    {
     "data": {
      "application/vnd.jupyter.widget-view+json": {
       "model_id": "e06f85c79a074d25806b8b61b1e75cee",
       "version_major": 2,
       "version_minor": 0
      },
      "text/plain": [
       "README.md: 0.00B [00:00, ?B/s]"
      ]
     },
     "metadata": {},
     "output_type": "display_data"
    },
    {
     "data": {
      "application/vnd.jupyter.widget-view+json": {
       "model_id": "dafd85d12731481b92512de3811d09ac",
       "version_major": 2,
       "version_minor": 0
      },
      "text/plain": [
       ".gitattributes: 0.00B [00:00, ?B/s]"
      ]
     },
     "metadata": {},
     "output_type": "display_data"
    },
    {
     "data": {
      "application/vnd.jupyter.widget-view+json": {
       "model_id": "627a80c2ab474a1aa059c2dc7fabaf65",
       "version_major": 2,
       "version_minor": 0
      },
      "text/plain": [
       "FastChemTokenizerHF.py: 0.00B [00:00, ?B/s]"
      ]
     },
     "metadata": {},
     "output_type": "display_data"
    },
    {
     "data": {
      "application/vnd.jupyter.widget-view+json": {
       "model_id": "f47d6676cf0a4ab4af2629e413bdec53",
       "version_major": 2,
       "version_minor": 0
      },
      "text/plain": [
       "config.json: 0.00B [00:00, ?B/s]"
      ]
     },
     "metadata": {},
     "output_type": "display_data"
    },
    {
     "data": {
      "application/vnd.jupyter.widget-view+json": {
       "model_id": "6124408cd75f48658f03d406732b7985",
       "version_major": 2,
       "version_minor": 0
      },
      "text/plain": [
       "configuration_chemq3mtp.py:   0%|          | 0.00/876 [00:00<?, ?B/s]"
      ]
     },
     "metadata": {},
     "output_type": "display_data"
    },
    {
     "data": {
      "application/vnd.jupyter.widget-view+json": {
       "model_id": "812f4920b28b4da393d18a3a6dc78930",
       "version_major": 2,
       "version_minor": 0
      },
      "text/plain": [
       "__init__.py:   0%|          | 0.00/569 [00:00<?, ?B/s]"
      ]
     },
     "metadata": {},
     "output_type": "display_data"
    },
    {
     "data": {
      "application/vnd.jupyter.widget-view+json": {
       "model_id": "f588a84a351c408f9d122842145926b8",
       "version_major": 2,
       "version_minor": 0
      },
      "text/plain": [
       "demo_usage.ipynb: 0.00B [00:00, ?B/s]"
      ]
     },
     "metadata": {},
     "output_type": "display_data"
    },
    {
     "data": {
      "application/vnd.jupyter.widget-view+json": {
       "model_id": "f306f3698e4944f08bdd5688e5574f3a",
       "version_major": 2,
       "version_minor": 0
      },
      "text/plain": [
       "generation_config.json:   0%|          | 0.00/174 [00:00<?, ?B/s]"
      ]
     },
     "metadata": {},
     "output_type": "display_data"
    },
    {
     "data": {
      "application/vnd.jupyter.widget-view+json": {
       "model_id": "5541e577b6fc48838f44acf8736f36fe",
       "version_major": 2,
       "version_minor": 0
      },
      "text/plain": [
       "rl_utils.py: 0.00B [00:00, ?B/s]"
      ]
     },
     "metadata": {},
     "output_type": "display_data"
    },
    {
     "data": {
      "application/vnd.jupyter.widget-view+json": {
       "model_id": "d2df630fc23241ddb75131e4ae5d7e76",
       "version_major": 2,
       "version_minor": 0
      },
      "text/plain": [
       "tokenizer_config.json:   0%|          | 0.00/302 [00:00<?, ?B/s]"
      ]
     },
     "metadata": {},
     "output_type": "display_data"
    },
    {
     "data": {
      "application/vnd.jupyter.widget-view+json": {
       "model_id": "3e30e72b6a3b44c183854fab23fd9971",
       "version_major": 2,
       "version_minor": 0
      },
      "text/plain": [
       "trainer.py: 0.00B [00:00, ?B/s]"
      ]
     },
     "metadata": {},
     "output_type": "display_data"
    },
    {
     "data": {
      "application/vnd.jupyter.widget-view+json": {
       "model_id": "67cc286a885540e9bb44cc11c4a37061",
       "version_major": 2,
       "version_minor": 0
      },
      "text/plain": [
       "model.safetensors:   0%|          | 0.00/39.4M [00:00<?, ?B/s]"
      ]
     },
     "metadata": {},
     "output_type": "display_data"
    },
    {
     "data": {
      "application/vnd.jupyter.widget-view+json": {
       "model_id": "89ac90dbd832477ab7207d35c74b2226",
       "version_major": 2,
       "version_minor": 0
      },
      "text/plain": [
       "modeling_chemq3mtp.py: 0.00B [00:00, ?B/s]"
      ]
     },
     "metadata": {},
     "output_type": "display_data"
    },
    {
     "data": {
      "application/vnd.jupyter.widget-view+json": {
       "model_id": "501dd24332094a1b8947c3b8e48455b0",
       "version_major": 2,
       "version_minor": 0
      },
      "text/plain": [
       "training_args.bin:   0%|          | 0.00/5.37k [00:00<?, ?B/s]"
      ]
     },
     "metadata": {},
     "output_type": "display_data"
    },
    {
     "data": {
      "application/vnd.jupyter.widget-view+json": {
       "model_id": "ae302fa0188e434cb76bcc227dc69362",
       "version_major": 2,
       "version_minor": 0
      },
      "text/plain": [
       "vocab.json: 0.00B [00:00, ?B/s]"
      ]
     },
     "metadata": {},
     "output_type": "display_data"
    },
    {
     "data": {
      "application/vnd.jupyter.widget-view+json": {
       "model_id": "4e3a318a6bc149549168bb2f559cc841",
       "version_major": 2,
       "version_minor": 0
      },
      "text/plain": [
       "trainer_state.json:   0%|          | 0.00/806 [00:00<?, ?B/s]"
      ]
     },
     "metadata": {},
     "output_type": "display_data"
    },
    {
     "data": {
      "application/vnd.jupyter.widget-view+json": {
       "model_id": "dfc0441cd35b43a5850e15b0ae5e478c",
       "version_major": 2,
       "version_minor": 0
      },
      "text/plain": [
       "training_config.json:   0%|          | 0.00/252 [00:00<?, ?B/s]"
      ]
     },
     "metadata": {},
     "output_type": "display_data"
    },
    {
     "name": "stdout",
     "output_type": "stream",
     "text": [
      "✅ Model downloaded to: D:\\tempo\\chemq3_model\n",
      "📁 Downloaded files:\n",
      "   .gitattributes (1519 bytes)\n",
      "   config.json (1161 bytes)\n",
      "   configuration_chemq3mtp.py (876 bytes)\n",
      "   demo_usage.ipynb (36582 bytes)\n",
      "   FastChemTokenizerHF.py (28659 bytes)\n",
      "   generation_config.json (174 bytes)\n",
      "   model.safetensors (39437252 bytes)\n",
      "   modeling_chemq3mtp.py (18125 bytes)\n",
      "   README.md (8849 bytes)\n",
      "   rl_utils.py (20726 bytes)\n",
      "   tokenizer_config.json (302 bytes)\n",
      "   trainer.py (2417 bytes)\n",
      "   trainer_state.json (806 bytes)\n",
      "   training_args.bin (5368 bytes)\n",
      "   training_config.json (252 bytes)\n",
      "   vocab.json (21574 bytes)\n",
      "   __init__.py (569 bytes)\n",
      "\n",
      "🔧 Loading custom modules from D:\\tempo\\chemq3_model...\n",
      "   ✅ Loaded configuration_chemq3mtp.py\n"
     ]
    },
    {
     "name": "stderr",
     "output_type": "stream",
     "text": [
      "`torch_dtype` is deprecated! Use `dtype` instead!\n"
     ]
    },
    {
     "name": "stdout",
     "output_type": "stream",
     "text": [
      "   ✅ Loaded modeling_chemq3mtp.py\n",
      "   ✅ Loaded FastChemTokenizerHF.py\n",
      "\n",
      "🔗 Registering model components...\n",
      "✅ Model components registered successfully\n",
      "\n",
      "🚀 Loading model...\n",
      "✅ Config loaded: ChemQ3MTPConfig\n",
      "✅ Model loaded: ChemQ3MTPForCausalLM\n",
      "✅ Tokenizer loaded: FastChemTokenizerSelfies\n",
      "\n",
      "🧪 Testing model...\n",
      "🖥️  Using device: cuda\n",
      "\n",
      "📊 Model Information:\n",
      "   Model class: ChemQ3MTPForCausalLM\n",
      "   Config class: ChemQ3MTPConfig\n",
      "   Tokenizer class: FastChemTokenizerSelfies\n",
      "   Model type: chemq3_mtp\n",
      "   Vocab size: 782\n",
      "\n",
      "🔤 Testing tokenization...\n",
      "   '[C][C][O]' -> [[0, 379, 379, 377, 1]]\n",
      "   '[C]' -> [[0, 379, 1]]\n",
      "   '[O]' -> [[0, 377, 1]]\n",
      "\n",
      "🎯 Testing generation...\n",
      "\n",
      "   Prompt: '[C]'\n",
      "      1: [C] [#C] [#C] [C] [#C] [C] [#C] [C]\n",
      "      2: [C] [P] [#C] [=C] [Branch1] [=Branch2] [C] [=C] [C] [=C] [C] [=C] [Ring1] [=Branch1] [N] [Branch1] [=C] [C] [=C] [Ring1] [#Branch2] [C] [=C] [C] [=C] [C] [=C] [Ring1] [=Branch1] [C] [C]\n",
      "      3: [C] [Branch1] [Ring2] [C] [Ring1] [Branch1] [C] [Ring1] [Ring2] [C] [C] [C] [C] [C] [C] [C] [C] [C] [C] [C] [C] [C] [=C] [C] [=C] [Branch1] [C] [Br] [C] [=C] [Ring1] [#Branch1]\n",
      "\n",
      "   Prompt: '[C][C]'\n",
      "      1: [C] [C] [O] [P] [=Branch1] [C] [=O] [Branch1] [C] [O] [O]\n",
      "      2: [C] [C] [Ring2] [Ring2] [C] [C] [C] [C] [C] [C] [C] [C] [C] [C] [C] [C] [C] [Branch1] [C] [C] [C]\n",
      "      3: [C] [C] [=C] [Branch1] [Ring1] [C] [C] [C] [C] [C] [C] [C] [C]\n",
      "\n",
      "🔬 Testing MTP functionality...\n",
      "   ✅ MTP training methods available\n",
      "   ✅ MTP generation methods available\n",
      "\n",
      "🎉 Model loading and testing completed successfully!\n"
     ]
    }
   ],
   "source": [
    "import torch\n",
    "import sys\n",
    "import os\n",
    "from pathlib import Path\n",
    "import importlib.util\n",
    "import huggingface_hub\n",
    "from transformers import AutoConfig, AutoModelForCausalLM, AutoTokenizer\n",
    "\n",
    "def download_and_setup_model(model_name=\"gbyuvd/ChemMiniQ3-SAbRLo\", local_dir=\"./chemq3_model\"):\n",
    "    \"\"\"Download model files and set up the custom modules\"\"\"\n",
    "    \n",
    "    print(f\"📥 Downloading model files from {model_name}...\")\n",
    "    \n",
    "    try:\n",
    "        # Download all files to a local directory\n",
    "        model_path = huggingface_hub.snapshot_download(\n",
    "            repo_id=model_name,\n",
    "            local_dir=local_dir,\n",
    "            local_files_only=False,\n",
    "            resume_download=True\n",
    "        )\n",
    "        \n",
    "        print(f\"✅ Model downloaded to: {model_path}\")\n",
    "        \n",
    "        # List downloaded files\n",
    "        print(\"📁 Downloaded files:\")\n",
    "        for file in Path(model_path).iterdir():\n",
    "            if file.is_file():\n",
    "                print(f\"   {file.name} ({file.stat().st_size} bytes)\")\n",
    "        \n",
    "        return Path(model_path)\n",
    "        \n",
    "    except Exception as e:\n",
    "        print(f\"❌ Download failed: {e}\")\n",
    "        return None\n",
    "\n",
    "def load_custom_modules(model_path):\n",
    "    \"\"\"Load all the custom modules required by the model\"\"\"\n",
    "    \n",
    "    model_path = Path(model_path)\n",
    "    \n",
    "    # Add the model directory to Python path\n",
    "    if str(model_path) not in sys.path:\n",
    "        sys.path.insert(0, str(model_path))\n",
    "    \n",
    "    print(f\"🔧 Loading custom modules from {model_path}...\")\n",
    "    \n",
    "    # Required module files\n",
    "    required_files = {\n",
    "        'configuration_chemq3mtp.py': 'configuration_chemq3mtp',\n",
    "        'modeling_chemq3mtp.py': 'modeling_chemq3mtp', \n",
    "        'FastChemTokenizerHF.py': 'FastChemTokenizerHF'\n",
    "    }\n",
    "    \n",
    "    loaded_modules = {}\n",
    "    \n",
    "    # Load each required module\n",
    "    for filename, module_name in required_files.items():\n",
    "        file_path = model_path / filename\n",
    "        \n",
    "        if not file_path.exists():\n",
    "            print(f\"❌ Required file not found: {filename}\")\n",
    "            return None\n",
    "            \n",
    "        try:\n",
    "            spec = importlib.util.spec_from_file_location(module_name, file_path)\n",
    "            module = importlib.util.module_from_spec(spec)\n",
    "            \n",
    "            # Execute the module\n",
    "            spec.loader.exec_module(module)\n",
    "            loaded_modules[module_name] = module\n",
    "            \n",
    "            print(f\"   ✅ Loaded {filename}\")\n",
    "            \n",
    "        except Exception as e:\n",
    "            print(f\"   ❌ Failed to load {filename}: {e}\")\n",
    "            return None\n",
    "    \n",
    "    return loaded_modules\n",
    "\n",
    "def register_model_components(loaded_modules):\n",
    "    \"\"\"Register the model components with transformers\"\"\"\n",
    "    \n",
    "    print(\"🔗 Registering model components...\")\n",
    "    \n",
    "    try:\n",
    "        # Get the classes from loaded modules\n",
    "        ChemQ3MTPConfig = loaded_modules['configuration_chemq3mtp'].ChemQ3MTPConfig\n",
    "        ChemQ3MTPForCausalLM = loaded_modules['modeling_chemq3mtp'].ChemQ3MTPForCausalLM\n",
    "        FastChemTokenizerSelfies = loaded_modules['FastChemTokenizerHF'].FastChemTokenizerSelfies\n",
    "        \n",
    "        # Register with transformers\n",
    "        AutoConfig.register(\"chemq3_mtp\", ChemQ3MTPConfig)\n",
    "        AutoModelForCausalLM.register(ChemQ3MTPConfig, ChemQ3MTPForCausalLM)\n",
    "        AutoTokenizer.register(ChemQ3MTPConfig, FastChemTokenizerSelfies)\n",
    "        \n",
    "        print(\"✅ Model components registered successfully\")\n",
    "        \n",
    "        return ChemQ3MTPConfig, ChemQ3MTPForCausalLM, FastChemTokenizerSelfies\n",
    "        \n",
    "    except Exception as e:\n",
    "        print(f\"❌ Registration failed: {e}\")\n",
    "        return None, None, None\n",
    "\n",
    "def load_model(model_path):\n",
    "    \"\"\"Load the model using the registered components\"\"\"\n",
    "    \n",
    "    print(\"🚀 Loading model...\")\n",
    "    \n",
    "    try:\n",
    "        # Load config\n",
    "        config = AutoConfig.from_pretrained(str(model_path), trust_remote_code=False)\n",
    "        print(f\"✅ Config loaded: {config.__class__.__name__}\")\n",
    "        \n",
    "        # Load model\n",
    "        model = AutoModelForCausalLM.from_pretrained(\n",
    "            str(model_path),\n",
    "            config=config,\n",
    "            torch_dtype=torch.float16 if torch.cuda.is_available() else torch.float32,\n",
    "            trust_remote_code=False  # We've already registered everything\n",
    "        )\n",
    "        print(f\"✅ Model loaded: {model.__class__.__name__}\")\n",
    "        \n",
    "        # Load tokenizer\n",
    "        tokenizer = AutoTokenizer.from_pretrained(str(model_path), trust_remote_code=False)\n",
    "        print(f\"✅ Tokenizer loaded: {tokenizer.__class__.__name__}\")\n",
    "        \n",
    "        return model, tokenizer, config\n",
    "        \n",
    "    except Exception as e:\n",
    "        print(f\"❌ Model loading failed: {e}\")\n",
    "        import traceback\n",
    "        traceback.print_exc()\n",
    "        return None, None, None\n",
    "\n",
    "def test_model(model, tokenizer, config):\n",
    "    \"\"\"Test the loaded model\"\"\"\n",
    "    \n",
    "    print(\"\\n🧪 Testing model...\")\n",
    "    \n",
    "    # Setup device\n",
    "    device = torch.device(\"cuda\" if torch.cuda.is_available() else \"cpu\")\n",
    "    print(f\"🖥️  Using device: {device}\")\n",
    "    \n",
    "    model = model.to(device)\n",
    "    model.eval()\n",
    "    \n",
    "    # Model info\n",
    "    print(f\"\\n📊 Model Information:\")\n",
    "    print(f\"   Model class: {model.__class__.__name__}\")\n",
    "    print(f\"   Config class: {config.__class__.__name__}\")\n",
    "    print(f\"   Tokenizer class: {tokenizer.__class__.__name__}\")\n",
    "    print(f\"   Model type: {config.model_type}\")\n",
    "    print(f\"   Vocab size: {config.vocab_size}\")\n",
    "    \n",
    "    # Set pad token if needed\n",
    "    if not hasattr(tokenizer, 'pad_token') or tokenizer.pad_token is None:\n",
    "        if hasattr(tokenizer, 'eos_token'):\n",
    "            tokenizer.pad_token = tokenizer.eos_token\n",
    "            print(\"✅ Set pad_token to eos_token\")\n",
    "    \n",
    "    # Test tokenization\n",
    "    print(\"\\n🔤 Testing tokenization...\")\n",
    "    test_inputs = [\"[C][C][O]\", \"[C]\", \"[O]\"]\n",
    "    \n",
    "    for test_input in test_inputs:\n",
    "        try:\n",
    "            tokens = tokenizer(test_input, return_tensors=\"pt\")\n",
    "            print(f\"   '{test_input}' -> {tokens.input_ids.tolist()}\")\n",
    "        except Exception as e:\n",
    "            print(f\"   ❌ Tokenization failed for '{test_input}': {e}\")\n",
    "            continue\n",
    "    \n",
    "    # Test generation\n",
    "    print(\"\\n🎯 Testing generation...\")\n",
    "    test_prompts = [\"[C]\", \"[C][C]\"]\n",
    "    \n",
    "    for prompt in test_prompts:\n",
    "        try:\n",
    "            input_ids = tokenizer(prompt, return_tensors=\"pt\").input_ids.to(device)\n",
    "            \n",
    "            with torch.no_grad():\n",
    "                outputs = model.generate(\n",
    "                    input_ids,\n",
    "                    max_length=input_ids.shape[1] + 20,\n",
    "                    temperature=0.8,\n",
    "                    top_p=0.9,\n",
    "                    top_k=50,\n",
    "                    do_sample=True,\n",
    "                    pad_token_id=tokenizer.pad_token_id if hasattr(tokenizer, 'pad_token_id') else 0,\n",
    "                    num_return_sequences=3\n",
    "                )\n",
    "            \n",
    "            print(f\"\\n   Prompt: '{prompt}'\")\n",
    "            for i, output in enumerate(outputs):\n",
    "                generated = tokenizer.decode(output, skip_special_tokens=True)\n",
    "                print(f\"      {i+1}: {generated}\")\n",
    "                \n",
    "        except Exception as e:\n",
    "            print(f\"   ❌ Generation failed for '{prompt}': {e}\")\n",
    "    \n",
    "    # Test MTP functionality if available\n",
    "    print(\"\\n🔬 Testing MTP functionality...\")\n",
    "    try:\n",
    "        if hasattr(model, 'set_mtp_training'):\n",
    "            print(\"   ✅ MTP training methods available\")\n",
    "            if hasattr(model, 'generate_with_logprobs'):\n",
    "                print(\"   ✅ MTP generation methods available\")\n",
    "        else:\n",
    "            print(\"   ℹ️  Standard model - no MTP methods detected\")\n",
    "    except Exception as e:\n",
    "        print(f\"   ⚠️  MTP test error: {e}\")\n",
    "\n",
    "def main():\n",
    "    print(\"🚀 ChemQ3-MTP Model Loader Starting...\\n\")\n",
    "    \n",
    "    model_name = \"gbyuvd/ChemMiniQ3-SAbRLo\"\n",
    "    local_dir = \"./chemq3_model\"\n",
    "    \n",
    "    # Step 1: Download model files\n",
    "    model_path = download_and_setup_model(model_name, local_dir)\n",
    "    if model_path is None:\n",
    "        return None, None, None\n",
    "    \n",
    "    print()\n",
    "    \n",
    "    # Step 2: Load custom modules\n",
    "    loaded_modules = load_custom_modules(model_path)\n",
    "    if loaded_modules is None:\n",
    "        return None, None, None\n",
    "    \n",
    "    print()\n",
    "    \n",
    "    # Step 3: Register components\n",
    "    config_class, model_class, tokenizer_class = register_model_components(loaded_modules)\n",
    "    if config_class is None:\n",
    "        return None, None, None\n",
    "    \n",
    "    print()\n",
    "    \n",
    "    # Step 4: Load the model\n",
    "    model, tokenizer, config = load_model(model_path)\n",
    "    if model is None:\n",
    "        return None, None, None\n",
    "    \n",
    "    # Step 5: Test the model\n",
    "    test_model(model, tokenizer, config)\n",
    "    \n",
    "    print(\"\\n🎉 Model loading and testing completed successfully!\")\n",
    "    \n",
    "    return model, tokenizer, config\n",
    "\n",
    "if __name__ == \"__main__\":\n",
    "    model, tokenizer, config = main()"
   ]
  },
  {
   "cell_type": "markdown",
   "id": "cf544bee",
   "metadata": {},
   "source": [
    "# Ordinary Generate"
   ]
  },
  {
   "cell_type": "code",
   "execution_count": 3,
   "id": "b2ea169c",
   "metadata": {},
   "outputs": [
    {
     "name": "stdout",
     "output_type": "stream",
     "text": [
      "[O] [C] [=C] [C] [=C] [Branch1] [C] [Cl] [C] [=C] [Ring1] [#Branch1] [C] [=C] [C] [C] [Branch1] [=N] [C] [=C] [C] [=C] [C] [=C] [Ring1] [=Branch1] [N] [C] [Ring1] [=N] [=O] [C] [Ring1] [S] [C] [=C] [C] [=C] [Branch1] [Ring1] [O] [C] [C] [=C] [Ring1] [Branch2]\n"
     ]
    }
   ],
   "source": [
    "# Generate SELFIES\n",
    "device = torch.device(\"cuda\" if torch.cuda.is_available() else \"cpu\")\n",
    "model.to(device)\n",
    "input_ids = tokenizer(\"<s>\", return_tensors=\"pt\").input_ids.to(device)\n",
    "gen = model.generate(input_ids, max_length=256, top_k=50, temperature=1, do_sample=True, pad_token_id=tokenizer.pad_token_id)\n",
    "print(tokenizer.decode(gen[0], skip_special_tokens=True))"
   ]
  },
  {
   "cell_type": "code",
   "execution_count": 4,
   "id": "bcd4f1fa",
   "metadata": {},
   "outputs": [
    {
     "name": "stdout",
     "output_type": "stream",
     "text": [
      "OC1=CC=C(Cl)C=C1C=CCC(C2=CC=CC=C2NC)=O\n"
     ]
    }
   ],
   "source": [
    "# Manually convert it to SMILES\n",
    "import selfies as sf\n",
    "\n",
    "test = tokenizer.decode(gen[0], skip_special_tokens=True)\n",
    "test = test.replace(' ', '')\n",
    "print(sf.decoder(test))\n"
   ]
  },
  {
   "cell_type": "code",
   "execution_count": 5,
   "id": "eaf273a0",
   "metadata": {},
   "outputs": [
    {
     "name": "stdout",
     "output_type": "stream",
     "text": [
      "OC=C1C=CC(OC)=C1OCCCNCC2=CC=CC=C2C\n"
     ]
    },
    {
     "data": {
      "image/jpeg": "[encoded data removed]",
      "image/png": "[encoded data removed]",
      "text/plain": [
       "<PIL.PngImagePlugin.PngImageFile image mode=RGB size=300x300>"
      ]
     },
     "execution_count": 5,
     "metadata": {},
     "output_type": "execute_result"
    }
   ],
   "source": [
    "# Generate Mol Viz\n",
    "from rdkit import Chem\n",
    "from rdkit.Chem import Draw\n",
    "\n",
    "input_ids = tokenizer(\"<s>\", return_tensors=\"pt\").input_ids.to(device)\n",
    "gen = model.generate(input_ids, max_length=25, top_k=50, temperature=1, do_sample=True, pad_token_id=tokenizer.pad_token_id)\n",
    "generatedmol = tokenizer.decode(gen[0], skip_special_tokens=True)\n",
    "\n",
    "test = generatedmol.replace(' ', '')\n",
    "csmi_gen = sf.decoder(test)\n",
    "print(csmi_gen)\n",
    "mol = Chem.MolFromSmiles(csmi_gen)\n",
    "\n",
    "# Draw the molecule\n",
    "Draw.MolToImage(mol)"
   ]
  },
  {
   "cell_type": "markdown",
   "id": "ab1ec3d4",
   "metadata": {},
   "source": [
    "# Testing the MTP Generation"
   ]
  },
  {
   "cell_type": "code",
   "execution_count": 21,
   "id": "db78ea04",
   "metadata": {},
   "outputs": [
    {
     "name": "stdout",
     "output_type": "stream",
     "text": [
      "Using MTP-specific generation...\n",
      "Generated SELFIES: [O][=C][Branch1][=Branch2][C][=C][C][=C][C][=C][Ring1][=Branch1][C][=C][C][=C][C][=C][C][Ring1][=Branch1][=C][Ring1][#Branch2][C][O]\n",
      "Decoded SMILES: O=C(C1=CC=CC2=C1)C=C3C=CC=CC3=C2CO\n"
     ]
    },
    {
     "data": {
      "image/jpeg": "[encoded data removed]",
      "image/png": "[encoded data removed]",
      "text/plain": [
       "<PIL.PngImagePlugin.PngImageFile image mode=RGB size=300x300>"
      ]
     },
     "metadata": {},
     "output_type": "display_data"
    }
   ],
   "source": [
    "# Generate Mol Viz with MTP-specific generation\n",
    "from rdkit import Chem\n",
    "from rdkit.Chem import Draw\n",
    "import selfies as sf\n",
    "import torch\n",
    "\n",
    "# Setup device first\n",
    "device = torch.device(\"cuda\" if torch.cuda.is_available() else \"cpu\")\n",
    "\n",
    "# Check if MTP-specific generation is available\n",
    "if hasattr(model, 'generate_with_logprobs'):\n",
    "    print(\"Using MTP-specific generation...\")\n",
    "    input_ids = tokenizer(\"<s>\", return_tensors=\"pt\").input_ids.to(device)\n",
    "    \n",
    "    # Try MTP-specific generation with log probabilities\n",
    "    try:\n",
    "        outputs = model.generate_with_logprobs(\n",
    "            input_ids,\n",
    "            max_new_tokens=25,  # Correct parameter name\n",
    "            temperature=1,\n",
    "            top_k=50,\n",
    "            do_sample=True,\n",
    "            return_probs=True,  # This returns action probabilities\n",
    "            tokenizer=tokenizer  # Pass tokenizer for decoding\n",
    "        )\n",
    "        \n",
    "        # Handle the output (returns: decoded_list, logprobs, tokens, probs)\n",
    "        gen = outputs[2]  # Get the generated token IDs (index 2)\n",
    "    except Exception as e:\n",
    "        print(f\"MTP generation failed: {e}, falling back to standard generation\")\n",
    "        gen = model.generate(input_ids, max_length=25, top_k=50, temperature=1, do_sample=True, pad_token_id=tokenizer.pad_token_id)\n",
    "else:\n",
    "    print(\"Using standard generation...\")\n",
    "    input_ids = tokenizer(\"<s>\", return_tensors=\"pt\").input_ids.to(device)\n",
    "    gen = model.generate(input_ids, max_length=25, top_k=50, temperature=1, do_sample=True, pad_token_id=tokenizer.pad_token_id)\n",
    "\n",
    "# Decode and process the generated molecule\n",
    "generatedmol = tokenizer.decode(gen[0], skip_special_tokens=True)\n",
    "test = generatedmol.replace(' ', '')\n",
    "csmi_gen = sf.decoder(test)\n",
    "print(f\"Generated SELFIES: {test}\")\n",
    "print(f\"Decoded SMILES: {csmi_gen}\")\n",
    "\n",
    "mol = Chem.MolFromSmiles(csmi_gen)\n",
    "\n",
    "# Draw the molecule\n",
    "if mol is not None:\n",
    "    img = Draw.MolToImage(mol)\n",
    "    display(img)  # Use display() in Jupyter notebooks\n",
    "else:\n",
    "    print(\"❌ Could not create molecule from generated SMILES\")"
   ]
  }
 ],
 "metadata": {
  "kernelspec": {
   "display_name": "base",
   "language": "python",
   "name": "python3"
  },
  "language_info": {
   "codemirror_mode": {
    "name": "ipython",
    "version": 3
   },
   "file_extension": ".py",
   "mimetype": "text/x-python",
   "name": "python",
   "nbconvert_exporter": "python",
   "pygments_lexer": "ipython3",
   "version": "3.13.0"
  }
 },
 "nbformat": 4,
 "nbformat_minor": 5
}
